{
 "cells": [
  {
   "cell_type": "markdown",
   "metadata": {},
   "source": [
    "# Preprocessing Data - Fundamental Techniques\n",
    "<br>Just I want to bring up some techniques of data preparation before putting data to a model. Most of the machine learning algorithm will have better performance if data be prepared and cleaned before training. "
   ]
  },
  {
   "cell_type": "code",
   "execution_count": 32,
   "metadata": {},
   "outputs": [],
   "source": [
    "import pandas as pd\n",
    "import numpy as np\n",
    "from sklearn import preprocessing \n",
    "from datetime import date \n",
    "url = 'https://www.stats.govt.nz/assets/Uploads/Electronic-card-transactions/Electronic-card-transactions-March-2020/Download-data/electronic-card-transactions-march-2020-csv.zip'\n",
    "df = pd.read_csv(url)"
   ]
  },
  {
   "cell_type": "markdown",
   "metadata": {},
   "source": [
    "## 1- Imputation\n",
    "<br>First method is null dropping based on a threshold. For instance if more than (75% = threshold) of a column or row would be null, they will be removed."
   ]
  },
  {
   "cell_type": "code",
   "execution_count": null,
   "metadata": {},
   "outputs": [],
   "source": [
    "threshold = 0.75\n",
    "#first remove fetures that has many null value (more than threshold)\n",
    "df = df[df.columns[df.isnull().mean() <= threshold]]\n",
    "\n",
    "#second remove rows that has many null value (more than threshold)\n",
    "df = df.loc[df.isnull().mean(axis=1) <= threshold]"
   ]
  },
  {
   "cell_type": "markdown",
   "metadata": {},
   "source": [
    "What if we have data with many nulls and we don't want to remove useful information from dataframe,\n",
    "replacement seems to be a good idea. We can replace the nulls with many things like 0 or ...\n",
    "For instance if we have a column that has just two values like 1 and NanN, zero is a good replacement. or \n",
    "if we have a columns like \"customer visit count in last month\" and we have many Nan, zero is a good replacement.<br>\n",
    "we can also use median of a column to replacement (not average because average is sensitive to outliers)"
   ]
  },
  {
   "cell_type": "code",
   "execution_count": null,
   "metadata": {},
   "outputs": [],
   "source": [
    "#relpace with median\n",
    "#df.fillna(0)\n",
    "#df['column name'].fillna(something)\n",
    "\n",
    "#here we replace nulls with median\n",
    "df['Data_value'].fillna(df['Data_value'].median())\n",
    "\n",
    "#here we replace nulls with the most ferequency value in that column \n",
    "#suitable for categorical data replacement \n",
    "df['Series_title_3'].fillna(df['Series_title_3'].value_counts().idxmax())"
   ]
  },
  {
   "cell_type": "markdown",
   "metadata": {},
   "source": [
    "## 2- Handling outliers\n",
    "<br>There are many ways to find the outliers. I believe the best way is to see your data with plotting each column. All other methods are open to making mistakes.\n",
    "Here I'm trying to find outliers with:\n",
    "<br>1-Upper and lower limit with standard deviation and mean\n",
    "<br>2-Z-Score\n",
    "<br>3-Upper and lower limit with percentile\n",
    "<br>Then we show that how we can drop or cap those outliers\n"
   ]
  },
  {
   "cell_type": "code",
   "execution_count": 4,
   "metadata": {},
   "outputs": [],
   "source": [
    "# Finding outlier using upper and lower limit with standard deviation and mean\n",
    "\n",
    "#define a facotor between 2 and 4\n",
    "factor = 3\n",
    "upper_limit = df['Data_value'].mean() + df['Data_value'].std()*3\n",
    "lower_limit = df['Data_value'].mean() - df['Data_value'].std()*3\n",
    "\n",
    "#remove outliers from data\n",
    "df = df.loc[df['Data_value'] <= upper_limit & df['Data_value'] >= lower_limit]\n",
    "\n",
    "#cap\n",
    "df.loc[df['Data_value'] > upper_limit, 'Data_value'] = upper_limit\n",
    "df.loc[df['Data_value'] < lower_limit, 'Data_value'] = lower_limit"
   ]
  },
  {
   "cell_type": "markdown",
   "metadata": {},
   "source": [
    "Z-score can quantify the unusualness of an observation when your data follow the normal distribution z-scores are the numbers of standard deviation above and below the mean that each value falls. For example a z-score of 2 signifies it is two standard deviations above the mean while a z-score of -2 signifies it is two standard deviation below the mean. A z-score of zero represents a value that equals the mean.\n",
    "<br>Z= (X-M)/Sigma<br>\n",
    "The further away an observations z-score is from zero, the more unusual it is."
   ]
  },
  {
   "cell_type": "code",
   "execution_count": 16,
   "metadata": {},
   "outputs": [],
   "source": [
    "# Create a full number dataframe (choosing the numeric columns just for test)\n",
    "df_test = df[['Period','Data_value','Magnitude']]\n",
    "\n",
    "# finding outlier using Z-Score\n",
    "scaler = preprocessing.StandardScaler()\n",
    "col_list = df_test.columns\n",
    "scaled_df_test = scaler.fit_transform(df_test)\n",
    "df_test = pd.DataFrame(scaled_df_test,columns = col_list)"
   ]
  },
  {
   "cell_type": "markdown",
   "metadata": {},
   "source": [
    "I can assume a certain percent of the value from the top or the bottom as an outlier. The key point is here to set the percentage value, and this depends on the distribution of data. If data ranges from 0 to 100, top 5% is not the values between 96 and 100. Top 5% means here the values that are out of the 95th percentile of data."
   ]
  },
  {
   "cell_type": "code",
   "execution_count": 34,
   "metadata": {},
   "outputs": [],
   "source": [
    "upper_limit = df['Data_value'].quantile(0.95)\n",
    "lower_limit = df['Data_value'].quantile(0.05)\n",
    "\n",
    "#drop\n",
    "df = df.loc[(df['Data_value'] <= upper_limit) & (df['Data_value'] >= lower_limit)]\n",
    "\n",
    "#cap\n",
    "df.loc[(df['Data_value'] > upper_limit),'Data_value'] = upper_limit\n",
    "df.loc[(df['Data_value'] < lower_limit),'Data_value'] = lower_limit"
   ]
  },
  {
   "cell_type": "markdown",
   "metadata": {},
   "source": [
    "## 3- Binning \n",
    "<br>Can be applied on both categorical and numerical data. The main motivation of binning is to make the model more robust and prevent overfitting, however, it has a cost to the performance. Every time we bin something, we sacrifies information and make data more regularized. The trade of between performance and overfitting is the keypoint of binning the process.<br>\n",
    "for example, we have values between 0 to 100 and we need to bin them,<br>\n",
    "0  to 30  ---> low<br>\n",
    "31 to 70  ---> medium<br>\n",
    "71 to 100 ---> high<br>\n",
    "\n",
    "or in categorical data<br>\n",
    "\n",
    "Iran      ---> Asia<br>\n",
    "France    ---> Europe<br>\n",
    "Argantina ---> South America<br>\n",
    "China     ---> Asia<br>\n",
    "Spain     ---> Europe<br>\n",
    "Brazil    ---> South America<br>\n",
    "India     ---> Asia<br>\n",
    "Italy     ---> Europe<br>"
   ]
  },
  {
   "cell_type": "code",
   "execution_count": 42,
   "metadata": {},
   "outputs": [],
   "source": [
    "#Numerical binning\n",
    "df['Data_value_bin'] = pd.cut(df['Data_value'], bins= [1,100000,1000000,10000000,100000000], labels=['a','b','c','d'])\n",
    "\n",
    "#Categorical binning\n",
    "conditions = [df['country'].str.contains('Spain'),\n",
    "              df['country'].str.contains('Iran'),\n",
    "              df['country'].str.contains('France'),\n",
    "              df['country'].str.contains('Argantina')]\n",
    "choiselist = ['Eroupe','Asia','Eroup','South America']\n",
    "df['continent'] = np.select(conditions,choiselist,default='other')"
   ]
  },
  {
   "cell_type": "markdown",
   "metadata": {},
   "source": [
    "## 4- Log Transform\n",
    "<br>Logarithm transformation (or log transform) is one of the most commonly used mathematical transformations in feature engineering. What are the benefits of log transform:<br>\n",
    "<br>1- It helps to handle skewed data and after transformation, the distribution becomes more approximate to normal.<br>\n",
    "<br>2- In most of the cases the magnitude order of the data changes within the range of the data. For instance, the difference between ages 15 and 20 is not equal to the ages 65 and 70. In terms of years, yes, they are identical, but for all other aspects, 5 years of difference in young ages mean a higher magnitude difference. This type of data comes from a multiplicative process and log transform normalizes the magnitude differences like that.<br>\n",
    "<br>3- It also decreases the effect of the outliers, due to the normalization of magnitude differences and the model become more robust."
   ]
  },
  {
   "cell_type": "code",
   "execution_count": null,
   "metadata": {},
   "outputs": [],
   "source": [
    "df['log+1'] = (df['col']+1).transform(np.log)\n",
    "\n",
    "#if we have negetive numbers in col, we can handle it like this\n",
    "\n",
    "df['log+1'] = (df['col'] - df['col'].min() + 1).transform(np.log)"
   ]
  },
  {
   "cell_type": "markdown",
   "metadata": {},
   "source": [
    "## 5- One Hot Encoder (OHE)\n",
    "<br>For injecting categorical data to our models we need to encode them while the numbers shouldn't relate to each other. For example if we have colors column with blue red and green values we cannot map them to 1,2,3 becuase  3 > 2 but green is not greater than red. "
   ]
  },
  {
   "cell_type": "code",
   "execution_count": null,
   "metadata": {},
   "outputs": [],
   "source": [
    "# we need list of categorical columns in dataframe\n",
    "cat_list = ['color','car']\n",
    "\n",
    "#call get_dummies from pandas and put the categorical data into it\n",
    "encoded_cat_list = np.get_dummies(df[cat_list])\n",
    "\n",
    "#add encoded dataframe and drop cat_list\n",
    "df.join(encoded_cat_list).drop(cat_list,axis=1)"
   ]
  },
  {
   "cell_type": "markdown",
   "metadata": {},
   "source": [
    "## 6- Grouping Operations\n",
    "<br>In most machine learning algorithms, every instance is represented by a row in the training dataset, where every column show a different feature of the instance. This kind of data called “Tidy”.<br><br>\n",
    "Datasets such as transactions rarely fit the definition of tidy data above, because of the multiple rows of an instance. In such a case, we group the data by the instances and then every instance is represented by only one row.<br><br>\n",
    "The key point of group by operations is to decide the aggregation functions of the features. For numerical features, average and sum functions are usually convenient options, whereas for categorical features it more complicated.<br><br>\n",
    "The first option is to select the label with the highest frequency. In other words, this is the max operation for categorical columns, but ordinary max functions generally do not return this value, you need to use a lambda function for this purpose.<br>\n",
    "df.groupby('field we want to group by').agg(aggregate function)<br><br>\n",
    "Second option is to make a pivot table."
   ]
  },
  {
   "cell_type": "code",
   "execution_count": 60,
   "metadata": {},
   "outputs": [
    {
     "data": {
      "text/html": [
       "<div>\n",
       "<style scoped>\n",
       "    .dataframe tbody tr th:only-of-type {\n",
       "        vertical-align: middle;\n",
       "    }\n",
       "\n",
       "    .dataframe tbody tr th {\n",
       "        vertical-align: top;\n",
       "    }\n",
       "\n",
       "    .dataframe thead th {\n",
       "        text-align: right;\n",
       "    }\n",
       "</style>\n",
       "<table border=\"1\" class=\"dataframe\">\n",
       "  <thead>\n",
       "    <tr style=\"text-align: right;\">\n",
       "      <th></th>\n",
       "      <th>id</th>\n",
       "      <th>name</th>\n",
       "    </tr>\n",
       "  </thead>\n",
       "  <tbody>\n",
       "    <tr>\n",
       "      <td>0</td>\n",
       "      <td>1</td>\n",
       "      <td>Moe</td>\n",
       "    </tr>\n",
       "    <tr>\n",
       "      <td>1</td>\n",
       "      <td>1</td>\n",
       "      <td>Moe</td>\n",
       "    </tr>\n",
       "    <tr>\n",
       "      <td>2</td>\n",
       "      <td>1</td>\n",
       "      <td>three</td>\n",
       "    </tr>\n",
       "    <tr>\n",
       "      <td>3</td>\n",
       "      <td>2</td>\n",
       "      <td>Moe</td>\n",
       "    </tr>\n",
       "    <tr>\n",
       "      <td>4</td>\n",
       "      <td>3</td>\n",
       "      <td>Moe</td>\n",
       "    </tr>\n",
       "  </tbody>\n",
       "</table>\n",
       "</div>"
      ],
      "text/plain": [
       "   id   name\n",
       "0   1    Moe\n",
       "1   1    Moe\n",
       "2   1  three\n",
       "3   2    Moe\n",
       "4   3    Moe"
      ]
     },
     "execution_count": 60,
     "metadata": {},
     "output_type": "execute_result"
    }
   ],
   "source": [
    "# we create a data-frame based for option #1\n",
    "mylist = [[1,'Moe'],[1,'Moe'],[1,'three'],[2,'Moe'],[3,'Moe']]\n",
    "col_list = ['id','name']\n",
    "df = pd.DataFrame(mylist,columns = col_list )\n",
    "df.head()"
   ]
  },
  {
   "cell_type": "code",
   "execution_count": 59,
   "metadata": {},
   "outputs": [
    {
     "data": {
      "text/html": [
       "<div>\n",
       "<style scoped>\n",
       "    .dataframe tbody tr th:only-of-type {\n",
       "        vertical-align: middle;\n",
       "    }\n",
       "\n",
       "    .dataframe tbody tr th {\n",
       "        vertical-align: top;\n",
       "    }\n",
       "\n",
       "    .dataframe thead th {\n",
       "        text-align: right;\n",
       "    }\n",
       "</style>\n",
       "<table border=\"1\" class=\"dataframe\">\n",
       "  <thead>\n",
       "    <tr style=\"text-align: right;\">\n",
       "      <th></th>\n",
       "      <th>name</th>\n",
       "    </tr>\n",
       "    <tr>\n",
       "      <th>id</th>\n",
       "      <th></th>\n",
       "    </tr>\n",
       "  </thead>\n",
       "  <tbody>\n",
       "    <tr>\n",
       "      <td>1</td>\n",
       "      <td>Moe</td>\n",
       "    </tr>\n",
       "    <tr>\n",
       "      <td>2</td>\n",
       "      <td>Moe</td>\n",
       "    </tr>\n",
       "    <tr>\n",
       "      <td>3</td>\n",
       "      <td>Moe</td>\n",
       "    </tr>\n",
       "  </tbody>\n",
       "</table>\n",
       "</div>"
      ],
      "text/plain": [
       "   name\n",
       "id     \n",
       "1   Moe\n",
       "2   Moe\n",
       "3   Moe"
      ]
     },
     "execution_count": 59,
     "metadata": {},
     "output_type": "execute_result"
    }
   ],
   "source": [
    "df.groupby('id').agg(lambda x: x.value_counts().idxmax())"
   ]
  },
  {
   "cell_type": "code",
   "execution_count": 62,
   "metadata": {},
   "outputs": [],
   "source": [
    "# we create a data-frame based for option #2\n",
    "mylist = [[1,'Roma',1],[2,'Madrid',2],[1,'Madrid',1],[3,'Istanbul',1],[2,'Istanbul',4],[1,'Istanbul',3],[1,'Roma',3]]\n",
    "col_list = ['user','city','visit_days']\n",
    "df = pd.DataFrame(mylist,columns = col_list)"
   ]
  },
  {
   "cell_type": "code",
   "execution_count": 63,
   "metadata": {},
   "outputs": [
    {
     "data": {
      "text/html": [
       "<div>\n",
       "<style scoped>\n",
       "    .dataframe tbody tr th:only-of-type {\n",
       "        vertical-align: middle;\n",
       "    }\n",
       "\n",
       "    .dataframe tbody tr th {\n",
       "        vertical-align: top;\n",
       "    }\n",
       "\n",
       "    .dataframe thead th {\n",
       "        text-align: right;\n",
       "    }\n",
       "</style>\n",
       "<table border=\"1\" class=\"dataframe\">\n",
       "  <thead>\n",
       "    <tr style=\"text-align: right;\">\n",
       "      <th></th>\n",
       "      <th>user</th>\n",
       "      <th>city</th>\n",
       "      <th>visit_days</th>\n",
       "    </tr>\n",
       "  </thead>\n",
       "  <tbody>\n",
       "    <tr>\n",
       "      <td>0</td>\n",
       "      <td>1</td>\n",
       "      <td>Roma</td>\n",
       "      <td>1</td>\n",
       "    </tr>\n",
       "    <tr>\n",
       "      <td>1</td>\n",
       "      <td>2</td>\n",
       "      <td>Madrid</td>\n",
       "      <td>2</td>\n",
       "    </tr>\n",
       "    <tr>\n",
       "      <td>2</td>\n",
       "      <td>1</td>\n",
       "      <td>Madrid</td>\n",
       "      <td>1</td>\n",
       "    </tr>\n",
       "    <tr>\n",
       "      <td>3</td>\n",
       "      <td>3</td>\n",
       "      <td>Istanbul</td>\n",
       "      <td>1</td>\n",
       "    </tr>\n",
       "    <tr>\n",
       "      <td>4</td>\n",
       "      <td>2</td>\n",
       "      <td>Istanbul</td>\n",
       "      <td>4</td>\n",
       "    </tr>\n",
       "  </tbody>\n",
       "</table>\n",
       "</div>"
      ],
      "text/plain": [
       "   user      city  visit_days\n",
       "0     1      Roma           1\n",
       "1     2    Madrid           2\n",
       "2     1    Madrid           1\n",
       "3     3  Istanbul           1\n",
       "4     2  Istanbul           4"
      ]
     },
     "execution_count": 63,
     "metadata": {},
     "output_type": "execute_result"
    }
   ],
   "source": [
    "df.head()"
   ]
  },
  {
   "cell_type": "code",
   "execution_count": 65,
   "metadata": {},
   "outputs": [
    {
     "data": {
      "text/html": [
       "<div>\n",
       "<style scoped>\n",
       "    .dataframe tbody tr th:only-of-type {\n",
       "        vertical-align: middle;\n",
       "    }\n",
       "\n",
       "    .dataframe tbody tr th {\n",
       "        vertical-align: top;\n",
       "    }\n",
       "\n",
       "    .dataframe thead th {\n",
       "        text-align: right;\n",
       "    }\n",
       "</style>\n",
       "<table border=\"1\" class=\"dataframe\">\n",
       "  <thead>\n",
       "    <tr style=\"text-align: right;\">\n",
       "      <th>city</th>\n",
       "      <th>Istanbul</th>\n",
       "      <th>Madrid</th>\n",
       "      <th>Roma</th>\n",
       "    </tr>\n",
       "    <tr>\n",
       "      <th>user</th>\n",
       "      <th></th>\n",
       "      <th></th>\n",
       "      <th></th>\n",
       "    </tr>\n",
       "  </thead>\n",
       "  <tbody>\n",
       "    <tr>\n",
       "      <td>1</td>\n",
       "      <td>3</td>\n",
       "      <td>1</td>\n",
       "      <td>4</td>\n",
       "    </tr>\n",
       "    <tr>\n",
       "      <td>2</td>\n",
       "      <td>4</td>\n",
       "      <td>2</td>\n",
       "      <td>0</td>\n",
       "    </tr>\n",
       "    <tr>\n",
       "      <td>3</td>\n",
       "      <td>1</td>\n",
       "      <td>0</td>\n",
       "      <td>0</td>\n",
       "    </tr>\n",
       "  </tbody>\n",
       "</table>\n",
       "</div>"
      ],
      "text/plain": [
       "city  Istanbul  Madrid  Roma\n",
       "user                        \n",
       "1            3       1     4\n",
       "2            4       2     0\n",
       "3            1       0     0"
      ]
     },
     "execution_count": 65,
     "metadata": {},
     "output_type": "execute_result"
    }
   ],
   "source": [
    "# pivot\n",
    "df.pivot_table(index = 'user', columns = 'city' , values = 'visit_days' , aggfunc = np.sum , fill_value =0)"
   ]
  },
  {
   "cell_type": "markdown",
   "metadata": {},
   "source": [
    "## 7- Splitting Featuers<br>\n",
    "Most of the time the dataset contains string columns that violate tidy data principles. By extracting the utilizable par of a column into new features, <br> 1-Enabling ML algorithms to comprehend them<br> 2-make possible to bin them<br> 3-improve model performance by uncovering potential information<br>\n",
    "Split function is a good option, however there is no one way of splitting features. It depends on the characteristics of the column, how to split it."
   ]
  },
  {
   "cell_type": "code",
   "execution_count": 71,
   "metadata": {},
   "outputs": [],
   "source": [
    "my_list = [['Moe Salari'],['Maryam Salari'],['Esmat Gonabadi'],['Mahmoud Salari']]\n",
    "col_name = ['fullname']\n",
    "df = pd.DataFrame(my_list, columns=col_name)"
   ]
  },
  {
   "cell_type": "code",
   "execution_count": 73,
   "metadata": {},
   "outputs": [],
   "source": [
    "df['first name'] = df['fullname'].str.split(' ').map(lambda x: x[0])\n",
    "df['last name'] = df['fullname'].str.split(' ').map(lambda x: x[-1])"
   ]
  },
  {
   "cell_type": "code",
   "execution_count": 74,
   "metadata": {},
   "outputs": [
    {
     "data": {
      "text/html": [
       "<div>\n",
       "<style scoped>\n",
       "    .dataframe tbody tr th:only-of-type {\n",
       "        vertical-align: middle;\n",
       "    }\n",
       "\n",
       "    .dataframe tbody tr th {\n",
       "        vertical-align: top;\n",
       "    }\n",
       "\n",
       "    .dataframe thead th {\n",
       "        text-align: right;\n",
       "    }\n",
       "</style>\n",
       "<table border=\"1\" class=\"dataframe\">\n",
       "  <thead>\n",
       "    <tr style=\"text-align: right;\">\n",
       "      <th></th>\n",
       "      <th>fullname</th>\n",
       "      <th>first name</th>\n",
       "      <th>last name</th>\n",
       "    </tr>\n",
       "  </thead>\n",
       "  <tbody>\n",
       "    <tr>\n",
       "      <td>0</td>\n",
       "      <td>Moe Salari</td>\n",
       "      <td>Moe</td>\n",
       "      <td>Salari</td>\n",
       "    </tr>\n",
       "    <tr>\n",
       "      <td>1</td>\n",
       "      <td>Maryam Salari</td>\n",
       "      <td>Maryam</td>\n",
       "      <td>Salari</td>\n",
       "    </tr>\n",
       "    <tr>\n",
       "      <td>2</td>\n",
       "      <td>Esmat Gonabadi</td>\n",
       "      <td>Esmat</td>\n",
       "      <td>Gonabadi</td>\n",
       "    </tr>\n",
       "    <tr>\n",
       "      <td>3</td>\n",
       "      <td>Mahmoud Salari</td>\n",
       "      <td>Mahmoud</td>\n",
       "      <td>Salari</td>\n",
       "    </tr>\n",
       "  </tbody>\n",
       "</table>\n",
       "</div>"
      ],
      "text/plain": [
       "         fullname first name last name\n",
       "0      Moe Salari        Moe    Salari\n",
       "1   Maryam Salari     Maryam    Salari\n",
       "2  Esmat Gonabadi      Esmat  Gonabadi\n",
       "3  Mahmoud Salari    Mahmoud    Salari"
      ]
     },
     "execution_count": 74,
     "metadata": {},
     "output_type": "execute_result"
    }
   ],
   "source": [
    "df"
   ]
  },
  {
   "cell_type": "markdown",
   "metadata": {},
   "source": [
    "## 8- Scaling \n",
    "Normalization: (Xi - Xmin)/(Xmax - Xmin)<br>\n",
    "Standardization: (X - Mean) / SD"
   ]
  },
  {
   "cell_type": "code",
   "execution_count": 80,
   "metadata": {},
   "outputs": [],
   "source": [
    "#Suppose we have a data-frame like this,\n",
    "mylist = [[10,20,30],[1222,134,8734],[32,32984,98732],[9823,223,93],[321,3214,456],[132,45,123]]\n",
    "col_list = ['col1','col2','col3']\n",
    "df = pd.DataFrame(mylist,columns = col_list)"
   ]
  },
  {
   "cell_type": "code",
   "execution_count": 76,
   "metadata": {},
   "outputs": [
    {
     "data": {
      "text/html": [
       "<div>\n",
       "<style scoped>\n",
       "    .dataframe tbody tr th:only-of-type {\n",
       "        vertical-align: middle;\n",
       "    }\n",
       "\n",
       "    .dataframe tbody tr th {\n",
       "        vertical-align: top;\n",
       "    }\n",
       "\n",
       "    .dataframe thead th {\n",
       "        text-align: right;\n",
       "    }\n",
       "</style>\n",
       "<table border=\"1\" class=\"dataframe\">\n",
       "  <thead>\n",
       "    <tr style=\"text-align: right;\">\n",
       "      <th></th>\n",
       "      <th>col1</th>\n",
       "      <th>col2</th>\n",
       "      <th>col3</th>\n",
       "    </tr>\n",
       "  </thead>\n",
       "  <tbody>\n",
       "    <tr>\n",
       "      <td>0</td>\n",
       "      <td>10</td>\n",
       "      <td>20</td>\n",
       "      <td>30</td>\n",
       "    </tr>\n",
       "    <tr>\n",
       "      <td>1</td>\n",
       "      <td>1222</td>\n",
       "      <td>134</td>\n",
       "      <td>8734</td>\n",
       "    </tr>\n",
       "    <tr>\n",
       "      <td>2</td>\n",
       "      <td>32</td>\n",
       "      <td>32984</td>\n",
       "      <td>98732</td>\n",
       "    </tr>\n",
       "    <tr>\n",
       "      <td>3</td>\n",
       "      <td>9823</td>\n",
       "      <td>223</td>\n",
       "      <td>93</td>\n",
       "    </tr>\n",
       "    <tr>\n",
       "      <td>4</td>\n",
       "      <td>321</td>\n",
       "      <td>3214</td>\n",
       "      <td>456</td>\n",
       "    </tr>\n",
       "    <tr>\n",
       "      <td>5</td>\n",
       "      <td>132</td>\n",
       "      <td>45</td>\n",
       "      <td>123</td>\n",
       "    </tr>\n",
       "  </tbody>\n",
       "</table>\n",
       "</div>"
      ],
      "text/plain": [
       "   col1   col2   col3\n",
       "0    10     20     30\n",
       "1  1222    134   8734\n",
       "2    32  32984  98732\n",
       "3  9823    223     93\n",
       "4   321   3214    456\n",
       "5   132     45    123"
      ]
     },
     "execution_count": 76,
     "metadata": {},
     "output_type": "execute_result"
    }
   ],
   "source": [
    "df"
   ]
  },
  {
   "cell_type": "code",
   "execution_count": 77,
   "metadata": {},
   "outputs": [],
   "source": [
    "# Normalization\n",
    "X = df.values #fetch list\n",
    "MMS = preprocessing.MinMaxScaler() #create object\n",
    "df_scaled = MMS.fit_transform(df) # transform \n",
    "df = pd.DataFrame(df_scaled,columns = col_list) #dataframe"
   ]
  },
  {
   "cell_type": "code",
   "execution_count": 78,
   "metadata": {},
   "outputs": [
    {
     "data": {
      "text/html": [
       "<div>\n",
       "<style scoped>\n",
       "    .dataframe tbody tr th:only-of-type {\n",
       "        vertical-align: middle;\n",
       "    }\n",
       "\n",
       "    .dataframe tbody tr th {\n",
       "        vertical-align: top;\n",
       "    }\n",
       "\n",
       "    .dataframe thead th {\n",
       "        text-align: right;\n",
       "    }\n",
       "</style>\n",
       "<table border=\"1\" class=\"dataframe\">\n",
       "  <thead>\n",
       "    <tr style=\"text-align: right;\">\n",
       "      <th></th>\n",
       "      <th>col1</th>\n",
       "      <th>col2</th>\n",
       "      <th>col3</th>\n",
       "    </tr>\n",
       "  </thead>\n",
       "  <tbody>\n",
       "    <tr>\n",
       "      <td>0</td>\n",
       "      <td>0.000000</td>\n",
       "      <td>0.000000</td>\n",
       "      <td>0.000000</td>\n",
       "    </tr>\n",
       "    <tr>\n",
       "      <td>1</td>\n",
       "      <td>0.123510</td>\n",
       "      <td>0.003458</td>\n",
       "      <td>0.088185</td>\n",
       "    </tr>\n",
       "    <tr>\n",
       "      <td>2</td>\n",
       "      <td>0.002242</td>\n",
       "      <td>1.000000</td>\n",
       "      <td>1.000000</td>\n",
       "    </tr>\n",
       "    <tr>\n",
       "      <td>3</td>\n",
       "      <td>1.000000</td>\n",
       "      <td>0.006158</td>\n",
       "      <td>0.000638</td>\n",
       "    </tr>\n",
       "    <tr>\n",
       "      <td>4</td>\n",
       "      <td>0.031693</td>\n",
       "      <td>0.096894</td>\n",
       "      <td>0.004316</td>\n",
       "    </tr>\n",
       "    <tr>\n",
       "      <td>5</td>\n",
       "      <td>0.012432</td>\n",
       "      <td>0.000758</td>\n",
       "      <td>0.000942</td>\n",
       "    </tr>\n",
       "  </tbody>\n",
       "</table>\n",
       "</div>"
      ],
      "text/plain": [
       "       col1      col2      col3\n",
       "0  0.000000  0.000000  0.000000\n",
       "1  0.123510  0.003458  0.088185\n",
       "2  0.002242  1.000000  1.000000\n",
       "3  1.000000  0.006158  0.000638\n",
       "4  0.031693  0.096894  0.004316\n",
       "5  0.012432  0.000758  0.000942"
      ]
     },
     "execution_count": 78,
     "metadata": {},
     "output_type": "execute_result"
    }
   ],
   "source": [
    "df"
   ]
  },
  {
   "cell_type": "code",
   "execution_count": 82,
   "metadata": {},
   "outputs": [],
   "source": [
    "#Standardization \n",
    "X = df.values\n",
    "col_list = df.columns\n",
    "SS = preprocessing.StandardScaler()\n",
    "scaled_X = SS.fit_transform(X)\n",
    "df = pd.DataFrame(scaled_X, columns = col_list)"
   ]
  },
  {
   "cell_type": "code",
   "execution_count": 83,
   "metadata": {},
   "outputs": [
    {
     "data": {
      "text/html": [
       "<div>\n",
       "<style scoped>\n",
       "    .dataframe tbody tr th:only-of-type {\n",
       "        vertical-align: middle;\n",
       "    }\n",
       "\n",
       "    .dataframe tbody tr th {\n",
       "        vertical-align: top;\n",
       "    }\n",
       "\n",
       "    .dataframe thead th {\n",
       "        text-align: right;\n",
       "    }\n",
       "</style>\n",
       "<table border=\"1\" class=\"dataframe\">\n",
       "  <thead>\n",
       "    <tr style=\"text-align: right;\">\n",
       "      <th></th>\n",
       "      <th>col1</th>\n",
       "      <th>col2</th>\n",
       "      <th>col3</th>\n",
       "    </tr>\n",
       "  </thead>\n",
       "  <tbody>\n",
       "    <tr>\n",
       "      <td>0</td>\n",
       "      <td>-0.537916</td>\n",
       "      <td>-0.503794</td>\n",
       "      <td>-0.496809</td>\n",
       "    </tr>\n",
       "    <tr>\n",
       "      <td>1</td>\n",
       "      <td>-0.197173</td>\n",
       "      <td>-0.494353</td>\n",
       "      <td>-0.256547</td>\n",
       "    </tr>\n",
       "    <tr>\n",
       "      <td>2</td>\n",
       "      <td>-0.531730</td>\n",
       "      <td>2.226134</td>\n",
       "      <td>2.227717</td>\n",
       "    </tr>\n",
       "    <tr>\n",
       "      <td>3</td>\n",
       "      <td>2.220916</td>\n",
       "      <td>-0.486982</td>\n",
       "      <td>-0.495070</td>\n",
       "    </tr>\n",
       "    <tr>\n",
       "      <td>4</td>\n",
       "      <td>-0.450481</td>\n",
       "      <td>-0.239281</td>\n",
       "      <td>-0.485050</td>\n",
       "    </tr>\n",
       "    <tr>\n",
       "      <td>5</td>\n",
       "      <td>-0.503616</td>\n",
       "      <td>-0.501724</td>\n",
       "      <td>-0.494242</td>\n",
       "    </tr>\n",
       "  </tbody>\n",
       "</table>\n",
       "</div>"
      ],
      "text/plain": [
       "       col1      col2      col3\n",
       "0 -0.537916 -0.503794 -0.496809\n",
       "1 -0.197173 -0.494353 -0.256547\n",
       "2 -0.531730  2.226134  2.227717\n",
       "3  2.220916 -0.486982 -0.495070\n",
       "4 -0.450481 -0.239281 -0.485050\n",
       "5 -0.503616 -0.501724 -0.494242"
      ]
     },
     "execution_count": 83,
     "metadata": {},
     "output_type": "execute_result"
    }
   ],
   "source": [
    "df"
   ]
  },
  {
   "cell_type": "markdown",
   "metadata": {},
   "source": [
    "## 9- Extracting Date\n",
    "<br>Building an ordinal relationship between the values is very challenging for ML algorithms if you leave a data column without manipulating.<br>\n",
    "1- Extract the part of the date into different columns, year, month, day, etc.<br>\n",
    "2- Extracting the period between the current date and columns in terms of years, month, day, etc.<br>\n",
    "3- Extracting some specific features from the date. Name of the weekday, weekend, holyday, etc"
   ]
  },
  {
   "cell_type": "code",
   "execution_count": 93,
   "metadata": {},
   "outputs": [],
   "source": [
    "#prepare a dataframe\n",
    "myList = [['19840522'],['20170102'],['20200202'],['20000101']]\n",
    "col_name = ['date']\n",
    "df = pd.DataFrame(myList,columns=col_name)"
   ]
  },
  {
   "cell_type": "code",
   "execution_count": 95,
   "metadata": {},
   "outputs": [],
   "source": [
    "#convert string to datetime\n",
    "df['date'] = pd.to_datetime(df['date'], format = '%Y%m%d')"
   ]
  },
  {
   "cell_type": "code",
   "execution_count": 97,
   "metadata": {},
   "outputs": [],
   "source": [
    "df['year'] = df['date'].dt.year\n",
    "df['month'] = df['date'].dt.month\n",
    "df['day'] = df['date'].dt.day\n",
    "df['passyear'] = date.today().year - df['year']"
   ]
  },
  {
   "cell_type": "code",
   "execution_count": 98,
   "metadata": {},
   "outputs": [
    {
     "data": {
      "text/html": [
       "<div>\n",
       "<style scoped>\n",
       "    .dataframe tbody tr th:only-of-type {\n",
       "        vertical-align: middle;\n",
       "    }\n",
       "\n",
       "    .dataframe tbody tr th {\n",
       "        vertical-align: top;\n",
       "    }\n",
       "\n",
       "    .dataframe thead th {\n",
       "        text-align: right;\n",
       "    }\n",
       "</style>\n",
       "<table border=\"1\" class=\"dataframe\">\n",
       "  <thead>\n",
       "    <tr style=\"text-align: right;\">\n",
       "      <th></th>\n",
       "      <th>date</th>\n",
       "      <th>year</th>\n",
       "      <th>month</th>\n",
       "      <th>day</th>\n",
       "      <th>passyear</th>\n",
       "    </tr>\n",
       "  </thead>\n",
       "  <tbody>\n",
       "    <tr>\n",
       "      <td>0</td>\n",
       "      <td>1984-05-22</td>\n",
       "      <td>1984</td>\n",
       "      <td>5</td>\n",
       "      <td>22</td>\n",
       "      <td>36</td>\n",
       "    </tr>\n",
       "    <tr>\n",
       "      <td>1</td>\n",
       "      <td>2017-01-02</td>\n",
       "      <td>2017</td>\n",
       "      <td>1</td>\n",
       "      <td>2</td>\n",
       "      <td>3</td>\n",
       "    </tr>\n",
       "    <tr>\n",
       "      <td>2</td>\n",
       "      <td>2020-02-02</td>\n",
       "      <td>2020</td>\n",
       "      <td>2</td>\n",
       "      <td>2</td>\n",
       "      <td>0</td>\n",
       "    </tr>\n",
       "    <tr>\n",
       "      <td>3</td>\n",
       "      <td>2000-01-01</td>\n",
       "      <td>2000</td>\n",
       "      <td>1</td>\n",
       "      <td>1</td>\n",
       "      <td>20</td>\n",
       "    </tr>\n",
       "  </tbody>\n",
       "</table>\n",
       "</div>"
      ],
      "text/plain": [
       "        date  year  month  day  passyear\n",
       "0 1984-05-22  1984      5   22        36\n",
       "1 2017-01-02  2017      1    2         3\n",
       "2 2020-02-02  2020      2    2         0\n",
       "3 2000-01-01  2000      1    1        20"
      ]
     },
     "execution_count": 98,
     "metadata": {},
     "output_type": "execute_result"
    }
   ],
   "source": [
    "df"
   ]
  },
  {
   "cell_type": "code",
   "execution_count": null,
   "metadata": {},
   "outputs": [],
   "source": []
  }
 ],
 "metadata": {
  "kernelspec": {
   "display_name": "Python 3",
   "language": "python",
   "name": "python3"
  },
  "language_info": {
   "codemirror_mode": {
    "name": "ipython",
    "version": 3
   },
   "file_extension": ".py",
   "mimetype": "text/x-python",
   "name": "python",
   "nbconvert_exporter": "python",
   "pygments_lexer": "ipython3",
   "version": "3.7.4"
  }
 },
 "nbformat": 4,
 "nbformat_minor": 2
}
